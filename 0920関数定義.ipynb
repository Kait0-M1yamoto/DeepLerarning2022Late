{
  "nbformat": 4,
  "nbformat_minor": 0,
  "metadata": {
    "colab": {
      "provenance": [],
      "authorship_tag": "ABX9TyP4/GkTtrn98gDWUXzhKxfL",
      "include_colab_link": true
    },
    "kernelspec": {
      "name": "python3",
      "display_name": "Python 3"
    },
    "language_info": {
      "name": "python"
    }
  },
  "cells": [
    {
      "cell_type": "markdown",
      "metadata": {
        "id": "view-in-github",
        "colab_type": "text"
      },
      "source": [
        "<a href=\"https://colab.research.google.com/github/Kait0-M1yamoto/DeepLerarning2022Late/blob/main/0920%E9%96%A2%E6%95%B0%E5%AE%9A%E7%BE%A9.ipynb\" target=\"_parent\"><img src=\"https://colab.research.google.com/assets/colab-badge.svg\" alt=\"Open In Colab\"/></a>"
      ]
    },
    {
      "cell_type": "code",
      "execution_count": null,
      "metadata": {
        "id": "bEgKcyyhbD8T"
      },
      "outputs": [],
      "source": []
    },
    {
      "cell_type": "markdown",
      "source": [
        "#Python3で関数を定義する\n",
        "##関数定義"
      ],
      "metadata": {
        "id": "cJNX5JBebT7S"
      }
    },
    {
      "cell_type": "code",
      "source": [
        "#helloという関数を定義する\n",
        "#\"hello,kansuu!\"と画面を表示する関数\n",
        "def hello():\n",
        "  print('hello, kansuu!')#インデントされている\n",
        "  #インデントされている命令文の関数の範囲の中\n",
        "print('test message!')#インデントされていない\n",
        "#インデントされていない命令文などは関数の範囲の外"
      ],
      "metadata": {
        "colab": {
          "base_uri": "https://localhost:8080/"
        },
        "id": "L18XbPMebYvf",
        "outputId": "6b01b2d1-f489-4345-d503-3824cb790bb3"
      },
      "execution_count": 3,
      "outputs": [
        {
          "output_type": "stream",
          "name": "stdout",
          "text": [
            "test message!\n"
          ]
        }
      ]
    },
    {
      "cell_type": "markdown",
      "source": [
        "#関数を実行する"
      ],
      "metadata": {
        "id": "53xkevF5eA87"
      }
    },
    {
      "cell_type": "code",
      "source": [
        "#作成した関数hello()をコールする\n",
        "hello()\n",
        "hello()"
      ],
      "metadata": {
        "colab": {
          "base_uri": "https://localhost:8080/"
        },
        "id": "w6QNU_pFeRwQ",
        "outputId": "2df49a1b-8137-49e6-a67e-c4f79d973e4a"
      },
      "execution_count": 4,
      "outputs": [
        {
          "output_type": "stream",
          "name": "stdout",
          "text": [
            "hello, kansuu!\n",
            "hello, kansuu!\n"
          ]
        }
      ]
    },
    {
      "cell_type": "markdown",
      "source": [
        "##引数つきの関数を定義する"
      ],
      "metadata": {
        "id": "tKwso22rengF"
      }
    },
    {
      "cell_type": "code",
      "source": [
        "#引数付きのhello()を定義\n",
        "def hello(who):\n",
        "  print('hello,'+ who + '!')\n",
        "#ここが関数の終わり\n",
        "\n",
        "hello('python!')"
      ],
      "metadata": {
        "colab": {
          "base_uri": "https://localhost:8080/"
        },
        "id": "S2s-vLnCe1LU",
        "outputId": "0e7e344e-9e0e-4881-d7bd-94c75075aab8"
      },
      "execution_count": 8,
      "outputs": [
        {
          "output_type": "stream",
          "name": "stdout",
          "text": [
            "hello,python!!\n"
          ]
        }
      ]
    },
    {
      "cell_type": "markdown",
      "source": [
        "###複数の引数つきの関数を定義"
      ],
      "metadata": {
        "id": "tva0VyjKgVpO"
      }
    },
    {
      "cell_type": "code",
      "source": [
        "def hello(who, aisatsu):\n",
        "  print('hello,'+ who + 'さん' + aisatsu) \n",
        " #関数終わり\n",
        "\n",
        "hello('田中','おはよう') \n",
        "hello('鈴木','こんにちは')"
      ],
      "metadata": {
        "colab": {
          "base_uri": "https://localhost:8080/"
        },
        "id": "n0M21KiugT5a",
        "outputId": "7e6b7207-fa39-4b4f-b857-c23f84dd95dd"
      },
      "execution_count": 11,
      "outputs": [
        {
          "output_type": "stream",
          "name": "stdout",
          "text": [
            "hello,田中さんおはよう\n",
            "hello,鈴木さんこんにちは\n"
          ]
        }
      ]
    },
    {
      "cell_type": "markdown",
      "source": [
        "##関数の戻り値を定義する\n",
        "### 戻り値1つの関数を定義"
      ],
      "metadata": {
        "id": "a-CN9zTyh72N"
      }
    },
    {
      "cell_type": "code",
      "source": [
        "def helloBack(who,aisatsu):\n",
        "  return who + 'さん、'+ aisatsu\n",
        "#関数終わり\n",
        "\n",
        "  #戻り値を変数xに代入\n",
        "x = helloBack('佐藤','こんばんは')\n",
        "print(x)"
      ],
      "metadata": {
        "colab": {
          "base_uri": "https://localhost:8080/"
        },
        "id": "fuwsB4bIiBpA",
        "outputId": "9ceb8f7e-0865-43fa-94f1-2d418318bf6d"
      },
      "execution_count": 15,
      "outputs": [
        {
          "output_type": "stream",
          "name": "stdout",
          "text": [
            "佐藤さん、こんばんは\n"
          ]
        }
      ]
    },
    {
      "cell_type": "markdown",
      "source": [
        "##複数の戻り値を返す関数を定義"
      ],
      "metadata": {
        "id": "O4054c8YjWjl"
      }
    },
    {
      "cell_type": "code",
      "source": [
        "def keisan(x,y):\n",
        "  #x,y,x+y この3つの値を返す\n",
        "  return x,y,x+y\n",
        "#関数終わり\n",
        "\n",
        "#関数keisanを実行して戻り値を受け取る\n",
        "e,f,g = keisan( 3 , 6 ) #戻り値が3,6,9になる\n",
        "print(e,f,g)\n"
      ],
      "metadata": {
        "colab": {
          "base_uri": "https://localhost:8080/"
        },
        "id": "oTmc0JKBjBzt",
        "outputId": "2358213f-5fb5-4d5e-c8b7-96928769f6ea"
      },
      "execution_count": 17,
      "outputs": [
        {
          "output_type": "stream",
          "name": "stdout",
          "text": [
            "3 6 9\n"
          ]
        }
      ]
    },
    {
      "cell_type": "markdown",
      "source": [
        "##その他文法\n",
        "###分岐(if文)"
      ],
      "metadata": {
        "id": "x5W8aTxCmCx6"
      }
    },
    {
      "cell_type": "code",
      "source": [
        "# if文の範囲もインデントで表す\n",
        "# numの値を関数で分岐する\n",
        "def over (num,thres):\n",
        "  if num > thres: #numが閾値より大きいとき\n",
        "    print(str(num)+'は'+str(thres)+'より大きい')\n",
        "  else:\n",
        "    print(str(num)+'は'+str(thres)+'以下です')\n",
        "  #分岐終わり\n",
        "#関数終わり    \n",
        "\n",
        "over(333,100)\n",
        "over(-1,10)"
      ],
      "metadata": {
        "colab": {
          "base_uri": "https://localhost:8080/"
        },
        "id": "UGZG3gMvki-b",
        "outputId": "915fe9e4-508d-4e3a-efd4-e044ed0d3a05"
      },
      "execution_count": 20,
      "outputs": [
        {
          "output_type": "stream",
          "name": "stdout",
          "text": [
            "333は100より大きい\n",
            "-1は10以下です\n"
          ]
        }
      ]
    },
    {
      "cell_type": "code",
      "source": [
        "#リストに第2引数の値が含まれるか判定\n",
        "def include(list, keyword):\n",
        "  uniq = set(list)#リストを集合に変換\n",
        "  if keyword in uniq:\n",
        "    print(keyword + 'が含まれる')\n",
        "  else:\n",
        "    print(keyword +'が含まれない')\n",
        "  #分岐の終わり\n",
        "#関数の終わり\n",
        "\n",
        "#リストを引き渡して作成した関数を実行する\n",
        "list_1=['アップル','ペン','ペン','パイナップル'] #第一引数に使うリスト\n",
        "include(list_1,'パイナップル')\n",
        "include(list_1,'バナナ')"
      ],
      "metadata": {
        "colab": {
          "base_uri": "https://localhost:8080/"
        },
        "id": "9fR7whXFj6P-",
        "outputId": "686f1716-51d2-4352-bc41-462430853637"
      },
      "execution_count": 21,
      "outputs": [
        {
          "output_type": "stream",
          "name": "stdout",
          "text": [
            "パイナップルが含まれる\n",
            "バナナが含まれない\n"
          ]
        }
      ]
    },
    {
      "cell_type": "markdown",
      "source": [
        "##繰り返し文(while文)"
      ],
      "metadata": {
        "id": "8SN0qsC2wmAd"
      }
    },
    {
      "cell_type": "code",
      "source": [
        "#while文は条件がtureの間繰り返す\n",
        "def count (max):\n",
        "  num = 0\n",
        "  while num < max: #numがmax未満の間、繰り返す\n",
        "    print(num)\n",
        "    num+=1\n",
        "  #while繰り返し終わり\n",
        "#関数終わり\n",
        "\n",
        "count(5)#作成した関数に引数を引き渡して実行\n"
      ],
      "metadata": {
        "colab": {
          "base_uri": "https://localhost:8080/"
        },
        "id": "smR7Cdv4wf-_",
        "outputId": "820c28f1-ee71-4dab-9640-3078e8c964d2"
      },
      "execution_count": 22,
      "outputs": [
        {
          "output_type": "stream",
          "name": "stdout",
          "text": [
            "0\n",
            "1\n",
            "2\n",
            "3\n",
            "4\n"
          ]
        }
      ]
    },
    {
      "cell_type": "markdown",
      "source": [
        "##繰り返し文(for文)\n",
        "\n",
        "###変数βの集合から1つずつ取り出して変数αとして使う\n",
        "\n",
        "for 変数α　in range(変数β):　\n"
      ],
      "metadata": {
        "id": "r3IQEVMGydl7"
      }
    },
    {
      "cell_type": "code",
      "source": [
        "# 集合（コレクション）の中から取り出して繰り返し\n",
        "def every (array):\n",
        "  for x in array: #arrayの中から1つずつデータを取り出してxに代入\n",
        "    print(x)\n",
        "  #for文終わり\n",
        "#関数終わり\n",
        "\n",
        "list = [1,2,3]\n",
        "every(list)\n",
        "tuple = (4,5,6)\n",
        "every(tuple)\n",
        "#辞書型もコレクション\n",
        "dict = {'a':7,'b':8,'c':9}\n",
        "every(dict)#キーワードの一覧表示\n",
        "values=dict.values() #値のリストを取得\n",
        "every(values)#値の一覧を表示\n",
        "#文字列も文字配列としてコレクション扱いができる\n",
        "every('dog')#dogとして表示"
      ],
      "metadata": {
        "colab": {
          "base_uri": "https://localhost:8080/"
        },
        "id": "Ot448w69yL7h",
        "outputId": "ecf9e6dd-303b-46dc-ba24-278f11fbe583"
      },
      "execution_count": 23,
      "outputs": [
        {
          "output_type": "stream",
          "name": "stdout",
          "text": [
            "1\n",
            "2\n",
            "3\n",
            "4\n",
            "5\n",
            "6\n",
            "a\n",
            "b\n",
            "c\n",
            "7\n",
            "8\n",
            "9\n",
            "d\n",
            "o\n",
            "g\n"
          ]
        }
      ]
    },
    {
      "cell_type": "code",
      "source": [
        "#カウンター変数で繰り返す\n",
        "#for n in range (数値) 0～数値未満繰り返す\n",
        "\n",
        "def count(num):\n",
        "  for i in range (num): #0～num繰り返す\n",
        "    print(i)\n",
        "  #繰り返しの終わり\n",
        "#関数の終わり\n",
        "\n",
        "count(3) #3 = 0,1,2 で繰り返す\n",
        "\n",
        "\n"
      ],
      "metadata": {
        "id": "pyG4ZqbR29of"
      },
      "execution_count": null,
      "outputs": []
    },
    {
      "cell_type": "markdown",
      "source": [
        "##繰り返しを中断したいときは、break命令"
      ],
      "metadata": {
        "id": "T9xT7jgw420v"
      }
    },
    {
      "cell_type": "code",
      "source": [
        "def stop (array):\n",
        "  for i in array:\n",
        "    if i >=4:\n",
        "      break\n",
        "    print(i)\n",
        "    #分岐終わり\n",
        "  #ループ終わり\n",
        "#関数終わり\n",
        "list =[1,2,3,4,5,1,2,3,4,5]\n",
        "stop(list)      "
      ],
      "metadata": {
        "colab": {
          "base_uri": "https://localhost:8080/"
        },
        "id": "koHrAR1d480Z",
        "outputId": "6d335007-469f-466f-dd57-d63b14197a05"
      },
      "execution_count": 24,
      "outputs": [
        {
          "output_type": "stream",
          "name": "stdout",
          "text": [
            "1\n",
            "2\n",
            "3\n"
          ]
        }
      ]
    },
    {
      "cell_type": "markdown",
      "source": [
        "##繰り返しをスキップしたいときは、continue命令"
      ],
      "metadata": {
        "id": "GDsQe90A6Y33"
      }
    },
    {
      "cell_type": "code",
      "source": [
        "def skip (array):\n",
        "  for i in array:\n",
        "    if i>=4:\n",
        "      continue #以降のループ内処理をスキップする\n",
        "    #分岐終わり\n",
        "    print(i)\n",
        "  #繰り返し終わり\n",
        "#関数終わり\n",
        "list=[1,2,3,4,5,1,2,3,4,5]\n",
        "skip(list)    "
      ],
      "metadata": {
        "colab": {
          "base_uri": "https://localhost:8080/"
        },
        "id": "tTKbweOL6Wk1",
        "outputId": "64cddbf8-350b-4741-8ab0-fe5968168723"
      },
      "execution_count": 25,
      "outputs": [
        {
          "output_type": "stream",
          "name": "stdout",
          "text": [
            "1\n",
            "2\n",
            "3\n",
            "1\n",
            "2\n",
            "3\n"
          ]
        }
      ]
    },
    {
      "cell_type": "code",
      "source": [],
      "metadata": {
        "id": "TdOdq8Ul7SRQ"
      },
      "execution_count": null,
      "outputs": []
    }
  ]
}