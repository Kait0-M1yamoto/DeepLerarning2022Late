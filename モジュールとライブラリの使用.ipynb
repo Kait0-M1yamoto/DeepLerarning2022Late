{
  "nbformat": 4,
  "nbformat_minor": 0,
  "metadata": {
    "colab": {
      "provenance": [],
      "authorship_tag": "ABX9TyMMmiqmptjFzE8kDPglajes",
      "include_colab_link": true
    },
    "kernelspec": {
      "name": "python3",
      "display_name": "Python 3"
    },
    "language_info": {
      "name": "python"
    }
  },
  "cells": [
    {
      "cell_type": "markdown",
      "metadata": {
        "id": "view-in-github",
        "colab_type": "text"
      },
      "source": [
        "<a href=\"https://colab.research.google.com/github/Kait0-M1yamoto/DeepLerarning2022Late/blob/main/%E3%83%A2%E3%82%B8%E3%83%A5%E3%83%BC%E3%83%AB%E3%81%A8%E3%83%A9%E3%82%A4%E3%83%96%E3%83%A9%E3%83%AA%E3%81%AE%E4%BD%BF%E7%94%A8.ipynb\" target=\"_parent\"><img src=\"https://colab.research.google.com/assets/colab-badge.svg\" alt=\"Open In Colab\"/></a>"
      ]
    },
    {
      "cell_type": "markdown",
      "source": [
        "#モジュールを使う\n",
        "##import文でモジュールを読み込んでつかう\n",
        "例）math"
      ],
      "metadata": {
        "id": "8JIHHfXr9Kz8"
      }
    },
    {
      "cell_type": "code",
      "source": [
        "#math モジュールを読み込む\n",
        "import math\n",
        "print(math.pi) #mathの中に定義してある円周率を表示\n",
        "print(math.pow(5,2)) #5の2乗\n",
        "print(math.sqrt(9)) #9の平方根"
      ],
      "metadata": {
        "colab": {
          "base_uri": "https://localhost:8080/"
        },
        "id": "GBQE_ksG9T1x",
        "outputId": "c2113664-9e7d-4ed3-d8c0-f517fdede67d"
      },
      "execution_count": 1,
      "outputs": [
        {
          "output_type": "stream",
          "name": "stdout",
          "text": [
            "3.141592653589793\n",
            "25.0\n",
            "3.0\n"
          ]
        }
      ]
    },
    {
      "cell_type": "markdown",
      "source": [
        "##Numpy-数値計算用の便利なライブラリ\n",
        "https://numpy.org/"
      ],
      "metadata": {
        "id": "J6mbHl52_fDw"
      }
    },
    {
      "cell_type": "code",
      "source": [
        "# numpy を　インポート\n",
        "import numpy as np"
      ],
      "metadata": {
        "id": "UAeaS9Ex9t_N"
      },
      "execution_count": 2,
      "outputs": []
    },
    {
      "cell_type": "markdown",
      "source": [
        "## numpy配列(ndarray)を作る"
      ],
      "metadata": {
        "id": "4kR40rrKonf-"
      }
    },
    {
      "cell_type": "code",
      "source": [
        "# リストを引き渡してndarrayを作る\n",
        "a=np.array([5,7,3,1,4,3])\n",
        "print(a)"
      ],
      "metadata": {
        "colab": {
          "base_uri": "https://localhost:8080/"
        },
        "id": "CG5bz6_Hovwd",
        "outputId": "d88aa3c1-fec9-4d88-808b-b5a15b3c4556"
      },
      "execution_count": 3,
      "outputs": [
        {
          "output_type": "stream",
          "name": "stdout",
          "text": [
            "[5 7 3 1 4 3]\n"
          ]
        }
      ]
    },
    {
      "cell_type": "markdown",
      "source": [
        "##Numpyで配列の操作をしてみる\n",
        "###配列を構成しなおす"
      ],
      "metadata": {
        "id": "xcAYu9rkqNmg"
      }
    },
    {
      "cell_type": "code",
      "source": [
        "#現在、aは1行1次元配列\n",
        "print(a)\n",
        "#aを3行2列の2次元配列に構成しなおす\n",
        "b=a.reshape([3,2])#新しい配列の構成を引数で指定する\n",
        "print(b)"
      ],
      "metadata": {
        "colab": {
          "base_uri": "https://localhost:8080/"
        },
        "id": "T8SSRScMpds6",
        "outputId": "3813be09-e31a-456e-a01f-b907220a72a8"
      },
      "execution_count": 4,
      "outputs": [
        {
          "output_type": "stream",
          "name": "stdout",
          "text": [
            "[5 7 3 1 4 3]\n",
            "[[5 7]\n",
            " [3 1]\n",
            " [4 3]]\n"
          ]
        }
      ]
    },
    {
      "cell_type": "markdown",
      "source": [
        "### Numpy配列の中身を初期化して作る"
      ],
      "metadata": {
        "id": "yX44lR_ysM6H"
      }
    },
    {
      "cell_type": "code",
      "source": [
        "#3行4列の0が入った2次元配列を作る\n",
        "c = np.zeros((3,4))\n",
        "print(c)\n",
        "#ランダムな値が入った配列を作る\n",
        "np.random.seed(0)\n",
        "r=np.random.rand(3,4)\n",
        "print(r)"
      ],
      "metadata": {
        "colab": {
          "base_uri": "https://localhost:8080/"
        },
        "id": "ODpecEt1rwkM",
        "outputId": "6c781d68-b380-4635-967a-b9c9d1930e4f"
      },
      "execution_count": 5,
      "outputs": [
        {
          "output_type": "stream",
          "name": "stdout",
          "text": [
            "[[0. 0. 0. 0.]\n",
            " [0. 0. 0. 0.]\n",
            " [0. 0. 0. 0.]]\n",
            "[[0.5488135  0.71518937 0.60276338 0.54488318]\n",
            " [0.4236548  0.64589411 0.43758721 0.891773  ]\n",
            " [0.96366276 0.38344152 0.79172504 0.52889492]]\n"
          ]
        }
      ]
    },
    {
      "cell_type": "markdown",
      "source": [
        "##Numpyスライスのやり方\n",
        "###基本\n",
        "####スライス指定の仕方[start:stop:step]で指定する"
      ],
      "metadata": {
        "id": "w3Zb8N9evGoZ"
      }
    },
    {
      "cell_type": "code",
      "source": [
        "#リストのスライス\n",
        "l =list(range(10)) #0-9までの10個の要素リスト\n",
        "print(l)\n",
        "print(l[4:8]) #[4:8]でスライス\n",
        "print(l[: : -1]) #stepを-1でスライス"
      ],
      "metadata": {
        "colab": {
          "base_uri": "https://localhost:8080/"
        },
        "id": "RIWWp2jCsMqU",
        "outputId": "d4c56b40-7dd8-448f-da35-3818cdf7719b"
      },
      "execution_count": 6,
      "outputs": [
        {
          "output_type": "stream",
          "name": "stdout",
          "text": [
            "[0, 1, 2, 3, 4, 5, 6, 7, 8, 9]\n",
            "[4, 5, 6, 7]\n",
            "[9, 8, 7, 6, 5, 4, 3, 2, 1, 0]\n"
          ]
        }
      ]
    },
    {
      "cell_type": "markdown",
      "source": [
        "##1次元のNumpy配列(ndarray)におけるスライス"
      ],
      "metadata": {
        "id": "hzkehjFGsOt4"
      }
    },
    {
      "cell_type": "code",
      "source": [
        "#範囲を指定してndarrayを作る\n",
        "a=np.arange(10) #0-9の10個の要素のndarray\n",
        "print(a)\n",
        "print(a[2:8])\n",
        "print(a[2:8:2]) #step2で2個飛ばし"
      ],
      "metadata": {
        "colab": {
          "base_uri": "https://localhost:8080/"
        },
        "id": "AJuNl2yXxPrU",
        "outputId": "68f821df-b653-4344-ed52-23da880344a1"
      },
      "execution_count": 7,
      "outputs": [
        {
          "output_type": "stream",
          "name": "stdout",
          "text": [
            "[0 1 2 3 4 5 6 7 8 9]\n",
            "[2 3 4 5 6 7]\n",
            "[2 4 6]\n"
          ]
        }
      ]
    },
    {
      "cell_type": "markdown",
      "source": [
        "##1次元配列のndarrayのスライスに代入"
      ],
      "metadata": {
        "id": "rfuchRylzhcy"
      }
    },
    {
      "cell_type": "code",
      "source": [
        "print(a)\n",
        "a[3:6] = 100 #指定した範囲に特定の値を代入\n",
        "print(a)\n",
        "a[3:6]=[100,200,300] #指定した範囲にリストの値を代入\n",
        "print(a)\n",
        "#a[3:6]=[100,200,300,400] #3つの範囲を4つの要素で上書きする\n",
        "a=np.arange(10)\n",
        "print(a)\n",
        "a[2:8:2]=100 #start2stop8にstep2で上書き\n",
        "print(a)"
      ],
      "metadata": {
        "colab": {
          "base_uri": "https://localhost:8080/"
        },
        "id": "WhV1LO1ExsAz",
        "outputId": "f7c28c51-0057-42df-826a-98d4efdec077"
      },
      "execution_count": 8,
      "outputs": [
        {
          "output_type": "stream",
          "name": "stdout",
          "text": [
            "[0 1 2 3 4 5 6 7 8 9]\n",
            "[  0   1   2 100 100 100   6   7   8   9]\n",
            "[  0   1   2 100 200 300   6   7   8   9]\n",
            "[0 1 2 3 4 5 6 7 8 9]\n",
            "[  0   1 100   3 100   5 100   7   8   9]\n"
          ]
        }
      ]
    },
    {
      "cell_type": "markdown",
      "source": [
        "##多次元配列のndarrayのスライス"
      ],
      "metadata": {
        "id": "eXE85FXa2yzo"
      }
    },
    {
      "cell_type": "code",
      "source": [
        "# 3行4列の2次元配列を作る\n",
        "a=np.arange(12).reshape((3,4))\n",
        "print(a)\n",
        "#2行目から終わりまでの行=[1:]\n",
        "#2列目から4列目手前までの列=[1:3]\n",
        "print(a[1:,1:3])\n",
        "b=np.arange(20).reshape(5,4)\n",
        "print(b)\n",
        "#9,10 13,14, 17, 18の3行2列だけ抜き出す"
      ],
      "metadata": {
        "colab": {
          "base_uri": "https://localhost:8080/"
        },
        "id": "uOKVBgwV2b2O",
        "outputId": "e8aeee0f-8e17-4391-d713-22975ec7a9fa"
      },
      "execution_count": 9,
      "outputs": [
        {
          "output_type": "stream",
          "name": "stdout",
          "text": [
            "[[ 0  1  2  3]\n",
            " [ 4  5  6  7]\n",
            " [ 8  9 10 11]]\n",
            "[[ 5  6]\n",
            " [ 9 10]]\n",
            "[[ 0  1  2  3]\n",
            " [ 4  5  6  7]\n",
            " [ 8  9 10 11]\n",
            " [12 13 14 15]\n",
            " [16 17 18 19]]\n"
          ]
        }
      ]
    },
    {
      "cell_type": "code",
      "source": [
        "#要素数12の3行4列の2次元配列を作る\n",
        "a = np.arange(12).reshape(3,4)\n",
        "print(a)\n",
        "#5,6,9,10の部分をスライス\n",
        "print(a[1:,1:3])\n",
        "a[1:,1:3]=100\n",
        "print(a)\n",
        "a=np.arange(12).reshape(3,4)\n",
        "#多次元で上書きにリストを使う\n",
        "a[1:,1:3]=[100,200]\n",
        "print(a)\n",
        "#多次元の上書きに2次元のリストを使う\n",
        "a[1:,1:3]=[[100,200],[300,400]]\n",
        "print(a)"
      ],
      "metadata": {
        "id": "By7KGh9n4G_G",
        "colab": {
          "base_uri": "https://localhost:8080/"
        },
        "outputId": "f994331b-8d79-4ee4-f511-4afeb13c107e"
      },
      "execution_count": 12,
      "outputs": [
        {
          "output_type": "stream",
          "name": "stdout",
          "text": [
            "[[ 0  1  2  3]\n",
            " [ 4  5  6  7]\n",
            " [ 8  9 10 11]]\n",
            "[[ 5  6]\n",
            " [ 9 10]]\n",
            "[[  0   1   2   3]\n",
            " [  4 100 100   7]\n",
            " [  8 100 100  11]]\n",
            "[[  0   1   2   3]\n",
            " [  4 100 200   7]\n",
            " [  8 100 200  11]]\n",
            "[[  0   1   2   3]\n",
            " [  4 100 200   7]\n",
            " [  8 300 400  11]]\n"
          ]
        }
      ]
    },
    {
      "cell_type": "markdown",
      "source": [
        "##多次元のndarrayへのstepを使ったスライスでの代入"
      ],
      "metadata": {
        "id": "VdjZKtxUir7P"
      }
    },
    {
      "cell_type": "code",
      "source": [
        "#要素数12　3行4列のndarrayを使って変数aに代入\n",
        "a = np.arange(12).reshape((3,4))\n",
        "print(a)\n",
        "#スライスにstep使ってみる\n",
        "print(a[1:,::2])\n",
        "#0,3,4,7,抜き出す\n",
        "print(a[:2,::3])\n",
        "a[1:,::2]=100 #4,6,8,10だったところを100で上書き\n",
        "print(a)\n",
        "#4,6,8,10だったところをリストで上書き\n",
        "a[1:,::2]=[100,200]\n",
        "print(a)\n",
        "#4,6,8,10だったところを多次元のリストで上書き\n",
        "a[1:,::2]=[[100,200],[300,400]]\n",
        "print(a)"
      ],
      "metadata": {
        "colab": {
          "base_uri": "https://localhost:8080/"
        },
        "id": "456KrYe3gL90",
        "outputId": "2a542ea3-9df0-4dac-e763-b3bfbc7d93c2"
      },
      "execution_count": 21,
      "outputs": [
        {
          "output_type": "stream",
          "name": "stdout",
          "text": [
            "[[ 0  1  2  3]\n",
            " [ 4  5  6  7]\n",
            " [ 8  9 10 11]]\n",
            "[[ 4  6]\n",
            " [ 8 10]]\n",
            "[[0 3]\n",
            " [4 7]]\n",
            "[[  0   1   2   3]\n",
            " [100   5 100   7]\n",
            " [100   9 100  11]]\n",
            "[[  0   1   2   3]\n",
            " [100   5 200   7]\n",
            " [100   9 200  11]]\n",
            "[[  0   1   2   3]\n",
            " [100   5 200   7]\n",
            " [300   9 400  11]]\n"
          ]
        }
      ]
    },
    {
      "cell_type": "code",
      "source": [],
      "metadata": {
        "id": "nJX9ABjrjqRY"
      },
      "execution_count": null,
      "outputs": []
    }
  ]
}