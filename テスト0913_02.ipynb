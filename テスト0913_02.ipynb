{
  "nbformat": 4,
  "nbformat_minor": 0,
  "metadata": {
    "colab": {
      "provenance": [],
      "collapsed_sections": [],
      "authorship_tag": "ABX9TyOwa1DJeFDTlYsJMDAIZhwn",
      "include_colab_link": true
    },
    "kernelspec": {
      "name": "python3",
      "display_name": "Python 3"
    },
    "language_info": {
      "name": "python"
    }
  },
  "cells": [
    {
      "cell_type": "markdown",
      "metadata": {
        "id": "view-in-github",
        "colab_type": "text"
      },
      "source": [
        "<a href=\"https://colab.research.google.com/github/Kait0-M1yamoto/DeepLerarning2022Late/blob/main/%E3%83%86%E3%82%B9%E3%83%880913_02.ipynb\" target=\"_parent\"><img src=\"https://colab.research.google.com/assets/colab-badge.svg\" alt=\"Open In Colab\"/></a>"
      ]
    },
    {
      "cell_type": "markdown",
      "source": [
        "# 辞書型(dictionary)\n",
        "### キーとペアで管理する"
      ],
      "metadata": {
        "id": "kWxbXMyrzh7h"
      }
    },
    {
      "cell_type": "markdown",
      "source": [
        "##辞書型の定義文"
      ],
      "metadata": {
        "id": "HjosYi2tzoYu"
      }
    },
    {
      "cell_type": "code",
      "source": [
        "#辞書型のデータを使って変数dictに代入\n",
        "#{キーワード:値,'キーワード':値}でデータを管理\n",
        "dict = {'アップル':1,'ペン':2,'パイナップル':3}\n",
        "print(dict)\n",
        "#値を利用するには、キーワードで指定\n",
        "print(dict['ペン'])"
      ],
      "metadata": {
        "colab": {
          "base_uri": "https://localhost:8080/"
        },
        "id": "yM7UtSKGzgR3",
        "outputId": "d9c6c0d8-349f-4720-86bb-f77d2df1a617"
      },
      "execution_count": 1,
      "outputs": [
        {
          "output_type": "stream",
          "name": "stdout",
          "text": [
            "{'アップル': 1, 'ペン': 2, 'パイナップル': 3}\n",
            "2\n"
          ]
        }
      ]
    },
    {
      "cell_type": "markdown",
      "source": [
        "## 辞書型のキーワードの一覧、値一覧を取得する"
      ],
      "metadata": {
        "id": "0D1U3uio1a4W"
      }
    },
    {
      "cell_type": "code",
      "source": [
        "print(dict)\n",
        "# dictに入っているキーの一覧\n",
        "print(dict.keys())\n",
        "# dictに入っている値の一覧\n",
        "print(dict.values())"
      ],
      "metadata": {
        "colab": {
          "base_uri": "https://localhost:8080/"
        },
        "id": "kTeOmSL-1tH7",
        "outputId": "f743ef80-782c-4fcc-e529-b197c7ee18da"
      },
      "execution_count": 2,
      "outputs": [
        {
          "output_type": "stream",
          "name": "stdout",
          "text": [
            "{'アップル': 1, 'ペン': 2, 'パイナップル': 3}\n",
            "dict_keys(['アップル', 'ペン', 'パイナップル'])\n",
            "dict_values([1, 2, 3])\n"
          ]
        }
      ]
    },
    {
      "cell_type": "markdown",
      "source": [
        "##辞書型の追加・削除・更新"
      ],
      "metadata": {
        "id": "bAMkQUSZ1AKm"
      }
    },
    {
      "cell_type": "code",
      "source": [
        "\n",
        "# print(dict.keys())\n",
        "dict['バナナ'] = 5\n",
        "print(dict)\n",
        "# キーワードがすでにあったら、そのキーワードの値を更新\n",
        "dict['バナナ'] = 100\n",
        "print(dict)\n",
        "# キーワードで指定したペアを削除\n",
        "dict.pop('バナナ')\n",
        "print(dict)"
      ],
      "metadata": {
        "colab": {
          "base_uri": "https://localhost:8080/"
        },
        "id": "zi3WwXdg0aSu",
        "outputId": "34f4b1f0-c14a-468c-db8f-4276f58daff5"
      },
      "execution_count": 3,
      "outputs": [
        {
          "output_type": "stream",
          "name": "stdout",
          "text": [
            "{'アップル': 1, 'ペン': 2, 'パイナップル': 3, 'バナナ': 5}\n",
            "{'アップル': 1, 'ペン': 2, 'パイナップル': 3, 'バナナ': 100}\n",
            "{'アップル': 1, 'ペン': 2, 'パイナップル': 3}\n"
          ]
        }
      ]
    },
    {
      "cell_type": "markdown",
      "source": [
        "#文字列の整形\n",
        "## 文字列の連結と繰り返し"
      ],
      "metadata": {
        "id": "uS7MnQ3v4cuE"
      }
    },
    {
      "cell_type": "code",
      "source": [
        "# 文字列の連結方法①\n",
        "apple = 'アップル'\n",
        "pen = 'ペン'\n",
        "print( apple + pen ) #プラス記号で連結\n",
        "# 文字列の連結方法② 文字列を連結する\n",
        "piko = ['ペン','パイナップル','アップル','ペン']\n",
        "# printメソッドで連結して表示　例: , で連結\n",
        "print(','.join(piko))\n",
        "# 回数を指定してメッセージを表示\n",
        "pon = 'ポン'\n",
        "print( pon * 3 )"
      ],
      "metadata": {
        "colab": {
          "base_uri": "https://localhost:8080/"
        },
        "id": "H3Z06ooX1Pfa",
        "outputId": "d90405ed-0ebb-4473-9ffc-598f94913564"
      },
      "execution_count": 4,
      "outputs": [
        {
          "output_type": "stream",
          "name": "stdout",
          "text": [
            "アップルペン\n",
            "ペン,パイナップル,アップル,ペン\n",
            "ポンポンポン\n"
          ]
        }
      ]
    },
    {
      "cell_type": "markdown",
      "source": [
        "## 【重要】文字列の整形(フォーマット)"
      ],
      "metadata": {
        "id": "VOVa6Niw6_6k"
      }
    },
    {
      "cell_type": "code",
      "source": [
        "# 定式で指定した形のメッセージにする\n",
        "print('{}{}:{}円')\n",
        "# スロットを定義した順番に、その数だけデータを引き渡して文章を組み立てる\n",
        "print('{}{}:{}円'.format('アップル','ペン','100'))\n",
        "# スロットを値のインデックスで指定することもできる\n",
        "print('{1}{2}:{0}円'.format(100,'アップル','ペン'))"
      ],
      "metadata": {
        "colab": {
          "base_uri": "https://localhost:8080/"
        },
        "id": "SyEKfz7f6OMX",
        "outputId": "8bd170a9-b4a5-447d-a8d0-87d676744673"
      },
      "execution_count": 5,
      "outputs": [
        {
          "output_type": "stream",
          "name": "stdout",
          "text": [
            "{}{}:{}円\n",
            "アップルペン:100円\n",
            "アップルペン:100円\n"
          ]
        }
      ]
    },
    {
      "cell_type": "markdown",
      "source": [
        "#コレクション演算\n",
        "リスト、タプル、つまり順番があることをシーケンスという。\n",
        "順番がない集合を集合型（セットという）\n",
        "上記2種類をまとめてコレクションという。コレクションは共通の演算が使えるlen（長さ、量を取得）、max（最大値を取得）、min（最小値を取得など）"
      ],
      "metadata": {
        "id": "yuTXOMdoXrfJ"
      }
    },
    {
      "cell_type": "code",
      "source": [
        "list = [1,1,2,3,4,5] #6つの要素\n",
        "tuple = (10,9,7,7,8,8,9) #7つの要素\n",
        "set = {1,-2,3,-4,5,-6,7,-8} #8つの要素\n",
        "#リストの長さ、最大値、最小値\n",
        "print(len(list),max(list),min(list))\n",
        "#タプルの長さ、最大値、最小値\n",
        "print(len(tuple),max(tuple),min(tuple))\n",
        "#setの長さ（量）、最大値、最小値\n",
        "print(len(set),max(set),min(set))"
      ],
      "metadata": {
        "id": "uneKXQxy6_Xf"
      },
      "execution_count": 5,
      "outputs": []
    }
  ]
}