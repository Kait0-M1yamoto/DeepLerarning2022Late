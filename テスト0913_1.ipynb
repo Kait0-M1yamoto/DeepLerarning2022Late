{
  "nbformat": 4,
  "nbformat_minor": 0,
  "metadata": {
    "colab": {
      "provenance": [],
      "authorship_tag": "ABX9TyM5xRgEjaZx5ClgxpIim1hS",
      "include_colab_link": true
    },
    "kernelspec": {
      "name": "python3",
      "display_name": "Python 3"
    },
    "language_info": {
      "name": "python"
    }
  },
  "cells": [
    {
      "cell_type": "markdown",
      "metadata": {
        "id": "view-in-github",
        "colab_type": "text"
      },
      "source": [
        "<a href=\"https://colab.research.google.com/github/Kait0-M1yamoto/DeepLerarning2022Late/blob/main/%E3%83%86%E3%82%B9%E3%83%880913_1.ipynb\" target=\"_parent\"><img src=\"https://colab.research.google.com/assets/colab-badge.svg\" alt=\"Open In Colab\"/></a>"
      ]
    },
    {
      "cell_type": "markdown",
      "source": [
        "# リスト型とタプル型\n",
        "## リストとタプル"
      ],
      "metadata": {
        "id": "bq0AXb79Uoq-"
      }
    },
    {
      "cell_type": "code",
      "execution_count": 1,
      "metadata": {
        "colab": {
          "base_uri": "https://localhost:8080/"
        },
        "id": "VxNQV146UG8e",
        "outputId": "caead7bc-f4d1-4e5b-8bae-c371d8447be4"
      },
      "outputs": [
        {
          "output_type": "stream",
          "name": "stdout",
          "text": [
            "['アップル', 'ペン', 'ペン', 'パイナップル']\n",
            "ペンペン\n"
          ]
        }
      ],
      "source": [
        "#リスト\n",
        "list = ['アップル','ペン','ペン','パイナップル']\n",
        "print(list)\n",
        "print(list[1]+list[2])"
      ]
    },
    {
      "cell_type": "code",
      "source": [
        "# タプル\n",
        "tuple = ('アップル','ペン','ペン','パイナップル')\n",
        "print(tuple[1],tuple[2])"
      ],
      "metadata": {
        "colab": {
          "base_uri": "https://localhost:8080/"
        },
        "id": "PytQ5W9SU3yI",
        "outputId": "897e7e8e-39c7-40cf-8f6f-dda375c6e699"
      },
      "execution_count": 2,
      "outputs": [
        {
          "output_type": "stream",
          "name": "stdout",
          "text": [
            "ペン ペン\n"
          ]
        }
      ]
    },
    {
      "cell_type": "markdown",
      "source": [
        "### 構成を変更できるのはリスト\n",
        "### 構成を変更できない(固定)はタプル"
      ],
      "metadata": {
        "id": "GM-riAGjXVTD"
      }
    },
    {
      "cell_type": "code",
      "source": [
        "# リストの構成変更\n",
        "print(list)\n",
        "list.append(100) #文字列データのリストにあえて数値を追加\n",
        "print(list)\n",
        "del list [2] #リストの3番目を削除\n",
        "print(list)\n",
        "list[3] = 'ペン' #数値の100を'ペン'に更新\n",
        "print(list)\n",
        "list.insert(2,'ペン') #2番目の位置に'ペン'を挿入\n",
        "print(list)"
      ],
      "metadata": {
        "colab": {
          "base_uri": "https://localhost:8080/"
        },
        "id": "tw8wobs7W4mT",
        "outputId": "35c56953-8911-446d-dbd3-ac77b20e2bc8"
      },
      "execution_count": 3,
      "outputs": [
        {
          "output_type": "stream",
          "name": "stdout",
          "text": [
            "['アップル', 'ペン', 'ペン', 'パイナップル']\n",
            "['アップル', 'ペン', 'ペン', 'パイナップル', 100]\n",
            "['アップル', 'ペン', 'パイナップル', 100]\n",
            "['アップル', 'ペン', 'パイナップル', 'ペン']\n",
            "['アップル', 'ペン', 'ペン', 'パイナップル', 'ペン']\n"
          ]
        }
      ]
    },
    {
      "cell_type": "markdown",
      "source": [
        "### リストやタプルの長さの取得"
      ],
      "metadata": {
        "id": "2Urkc8cobFxi"
      }
    },
    {
      "cell_type": "code",
      "source": [
        "print(list)\n",
        "print(len(list)) #len()で長さを取得する"
      ],
      "metadata": {
        "colab": {
          "base_uri": "https://localhost:8080/"
        },
        "id": "wBrFoxx2XxHF",
        "outputId": "1cc53380-a539-4eaf-8a3d-420ee9110b22"
      },
      "execution_count": 4,
      "outputs": [
        {
          "output_type": "stream",
          "name": "stdout",
          "text": [
            "['アップル', 'ペン', 'ペン', 'パイナップル', 'ペン']\n",
            "5\n"
          ]
        }
      ]
    },
    {
      "cell_type": "markdown",
      "source": [
        "#スライス\n",
        "###データを抽出する(データを一部分取り出す)"
      ],
      "metadata": {
        "id": "tfk4-3bucF-a"
      }
    },
    {
      "cell_type": "code",
      "source": [
        "print(list)\n",
        "print(list[1]) #何番目の要素の指定の仕方と同じ考え方\n",
        "print(list[1:3]) #1番目から3番目の範囲を指定して抽出 = スライス\n",
        "print(list[1:]) #1番目から最後まで抽出(スライス)"
      ],
      "metadata": {
        "colab": {
          "base_uri": "https://localhost:8080/"
        },
        "id": "KrBvc1uVbUy7",
        "outputId": "5044818c-4bc9-4254-ecc3-6161bfac4aa0"
      },
      "execution_count": 5,
      "outputs": [
        {
          "output_type": "stream",
          "name": "stdout",
          "text": [
            "['アップル', 'ペン', 'ペン', 'パイナップル', 'ペン']\n",
            "ペン\n",
            "['ペン', 'ペン']\n",
            "['ペン', 'ペン', 'パイナップル', 'ペン']\n"
          ]
        }
      ]
    },
    {
      "cell_type": "markdown",
      "source": [
        "# SET型（集合型）\n",
        "### 集合型SETは、順番を持たない。重複したデータも持たない"
      ],
      "metadata": {
        "id": "SvMeRz2-eysV"
      }
    },
    {
      "cell_type": "code",
      "source": [
        "# uniqという名前のset型変数を作る\n",
        "uniq = set(['アップル','ペン','ペン','パイナップル'])\n",
        "print(uniq) #リストの地点では'ペン'が重複できていたが、set型になって重複が消えた"
      ],
      "metadata": {
        "colab": {
          "base_uri": "https://localhost:8080/"
        },
        "id": "sE9IhI5xczD4",
        "outputId": "b779cbba-7b7d-44f2-c285-1ee6d5a84aa3"
      },
      "execution_count": 8,
      "outputs": [
        {
          "output_type": "stream",
          "name": "stdout",
          "text": [
            "{'ペン', 'パイナップル', 'アップル'}\n"
          ]
        }
      ]
    },
    {
      "cell_type": "markdown",
      "source": [
        "## 集合型の追加変更削除"
      ],
      "metadata": {
        "id": "lw0MF0BUgyV6"
      }
    },
    {
      "cell_type": "code",
      "source": [
        "print(uniq)\n",
        "uniq.add('バナナ') # 追加\n",
        "uniq.remove('ペン')# 削除\n",
        "print(uniq)"
      ],
      "metadata": {
        "colab": {
          "base_uri": "https://localhost:8080/"
        },
        "id": "L6ScdFiAf_le",
        "outputId": "6764485f-7cc6-45a7-bb77-ec3d9774c36f"
      },
      "execution_count": 10,
      "outputs": [
        {
          "output_type": "stream",
          "name": "stdout",
          "text": [
            "{'ペン', 'パイナップル', 'アップル'}\n",
            "{'パイナップル', 'バナナ', 'アップル'}\n"
          ]
        }
      ]
    },
    {
      "cell_type": "code",
      "source": [],
      "metadata": {
        "id": "W8DRQWw-hAKT"
      },
      "execution_count": null,
      "outputs": []
    },
    {
      "cell_type": "markdown",
      "source": [
        "#### 集合演算\n",
        "包括、積、和、差分"
      ],
      "metadata": {
        "id": "oufRVllmiFN_"
      }
    },
    {
      "cell_type": "code",
      "source": [
        "# uniqの値を再定義\n",
        "uniq = set(['アップル','ペン','ペン','パイナップル'])\n",
        "a = set(['アップル','ペン'])\n",
        "b = set(['ペン','パイナップル'])\n",
        "print(uniq)\n",
        "print(a)\n",
        "print(b)\n",
        "# 集合 a は集合 uniq の subset(部分集合)である？=包括関係\n",
        "print(a.issubset(uniq))\n",
        "# データ'ペン'は集合aの中にある？\n",
        "'ペン'in a                    "
      ],
      "metadata": {
        "colab": {
          "base_uri": "https://localhost:8080/"
        },
        "id": "lSBucAk_iIKa",
        "outputId": "37274e21-a41a-4a99-ab79-02e23757db84"
      },
      "execution_count": 14,
      "outputs": [
        {
          "output_type": "stream",
          "name": "stdout",
          "text": [
            "{'ペン', 'パイナップル', 'アップル'}\n",
            "{'ペン', 'アップル'}\n",
            "{'ペン', 'パイナップル'}\n",
            "True\n"
          ]
        },
        {
          "output_type": "execute_result",
          "data": {
            "text/plain": [
              "True"
            ]
          },
          "metadata": {},
          "execution_count": 14
        }
      ]
    },
    {
      "cell_type": "code",
      "source": [
        "# ある集合と別の集合の共通部分の要素(insertsection)\n",
        "# 集合 a と 集合 b の共通集合\n",
        "print(a)\n",
        "print(b)\n",
        "print(a.intersection(b)) #集合aのデータで集合bに共通するもの:積\n",
        "# 集合 a と b の結合 : 和集合(setなので重複は削除される)\n",
        "print(a.union(b)) # 集合aと集合bの集まり\n",
        "# 集合 a と集合 b の差集合 (aのみに含まれる集合)\n",
        "a.difference(b) # a から b を取り除いた残り(差分:difference)"
      ],
      "metadata": {
        "colab": {
          "base_uri": "https://localhost:8080/"
        },
        "id": "kdK9-mdkjVwy",
        "outputId": "5baffb36-1d88-4459-a1ba-2d9a62d950ae"
      },
      "execution_count": 16,
      "outputs": [
        {
          "output_type": "stream",
          "name": "stdout",
          "text": [
            "{'ペン', 'アップル'}\n",
            "{'ペン', 'パイナップル'}\n",
            "{'ペン'}\n",
            "{'ペン', 'パイナップル', 'アップル'}\n"
          ]
        },
        {
          "output_type": "execute_result",
          "data": {
            "text/plain": [
              "{'アップル'}"
            ]
          },
          "metadata": {},
          "execution_count": 16
        }
      ]
    },
    {
      "cell_type": "code",
      "source": [],
      "metadata": {
        "id": "GDWElRukrtWs"
      },
      "execution_count": null,
      "outputs": []
    }
  ]
}