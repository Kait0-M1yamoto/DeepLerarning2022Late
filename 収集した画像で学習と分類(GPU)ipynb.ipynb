{
  "nbformat": 4,
  "nbformat_minor": 0,
  "metadata": {
    "colab": {
      "provenance": [],
      "authorship_tag": "ABX9TyN3HutXdYT8xY0Mnx3sZt0q",
      "include_colab_link": true
    },
    "kernelspec": {
      "name": "python3",
      "display_name": "Python 3"
    },
    "language_info": {
      "name": "python"
    },
    "accelerator": "GPU",
    "gpuClass": "standard"
  },
  "cells": [
    {
      "cell_type": "markdown",
      "metadata": {
        "id": "view-in-github",
        "colab_type": "text"
      },
      "source": [
        "<a href=\"https://colab.research.google.com/github/Kait0-M1yamoto/DeepLerarning2022Late/blob/main/%E5%8F%8E%E9%9B%86%E3%81%97%E3%81%9F%E7%94%BB%E5%83%8F%E3%81%A7%E5%AD%A6%E7%BF%92%E3%81%A8%E5%88%86%E9%A1%9E(GPU)ipynb.ipynb\" target=\"_parent\"><img src=\"https://colab.research.google.com/assets/colab-badge.svg\" alt=\"Open In Colab\"/></a>"
      ]
    },
    {
      "cell_type": "markdown",
      "source": [
        "##収集した画像をColabにUPして学習させ、それをもとに分類させる"
      ],
      "metadata": {
        "id": "fi7vZuQaWCZ1"
      }
    },
    {
      "cell_type": "markdown",
      "source": [
        "###ファイルフォルダを準備する"
      ],
      "metadata": {
        "id": "hbdlj7N7WvXt"
      }
    },
    {
      "cell_type": "code",
      "execution_count": 1,
      "metadata": {
        "id": "NetR3zbgVPX_"
      },
      "outputs": [],
      "source": [
        "import os\n",
        "os.makedirs('sample',exist_ok=True) #分類対象の画像フォルダを作成\n",
        "os.makedirs('output/dog/sample',exist_ok=True) #犬と判定されたときの置き場所\n",
        "os.makedirs('output/cat/sample',exist_ok=True) #猫と判定された時の置き場所\n",
        "os.makedirs('img/deep_learning/dog',exist_ok=True)#犬の学習用の収集画像\n",
        "os.makedirs('img/deep_learning/cat',exist_ok=True)#猫の学習用の収集画像"
      ]
    },
    {
      "cell_type": "markdown",
      "source": [
        "#必要なライブラリをimport"
      ],
      "metadata": {
        "id": "h7oe2WzeY3DQ"
      }
    },
    {
      "cell_type": "code",
      "source": [
        "import cv2\n",
        "import numpy as np\n",
        "import glob \n",
        "from sklearn.model_selection import train_test_split\n",
        "from keras.utils import np_utils"
      ],
      "metadata": {
        "id": "fZWpOZV9Xn1Z"
      },
      "execution_count": 2,
      "outputs": []
    },
    {
      "cell_type": "markdown",
      "source": [
        "##分類（クラス）の名前フォルダ名（dog,cat）から引用する"
      ],
      "metadata": {
        "id": "9WqHb9QcZq4N"
      }
    },
    {
      "cell_type": "code",
      "source": [
        "from pandas.core.dtypes.common import classes\n",
        "path = \"img/deep_learning\" #dogとcatフォルダがある場所\n",
        "folders = os.listdir(path)\n",
        "#2つのパスからフォルダ名を抜き出す\n",
        "classes = [f for f in folders if os.path.isdir(os.path.join(path,f))]\n",
        "print(classes)\n",
        "n_classes =len(classes)\n",
        "print(n_classes)"
      ],
      "metadata": {
        "colab": {
          "base_uri": "https://localhost:8080/"
        },
        "id": "1Xrbeo5rZSgY",
        "outputId": "6ae77583-16bf-41f9-c078-01b551a8e532"
      },
      "execution_count": 10,
      "outputs": [
        {
          "output_type": "stream",
          "name": "stdout",
          "text": [
            "['dog', 'cat']\n",
            "2\n"
          ]
        }
      ]
    },
    {
      "cell_type": "markdown",
      "source": [
        "##画像を読み込みリサイズする"
      ],
      "metadata": {
        "id": "MGAeaigh9v_a"
      }
    },
    {
      "cell_type": "code",
      "source": [
        "#画像とラベルのための配列\n",
        "X=[] #画像（学習データ用の配列）\n",
        "Y=[] #ラベル（正解用の配列）\n",
        "\n",
        "#画像を読み込みつつリサイズする\n",
        "for label, class_name in enumerate(classes):\n",
        "  files = glob.glob(path +\"/\"+class_name+\"/*jpg\")\n",
        "  for file in files:\n",
        "    img=cv2.imread(file)\n",
        "    img=cv2.resize(img,dsize=(224,224))\n",
        "    X.append(img)\n",
        "    Y.append(label)\n",
        "    #内部ループ終わり\n",
        "#外部ループ終わり    "
      ],
      "metadata": {
        "id": "SzrC21-xarrD"
      },
      "execution_count": 11,
      "outputs": []
    },
    {
      "cell_type": "markdown",
      "source": [
        "##0～255のビットデータの値を、学習のために0～1に変換（正規化）学習精度上げる"
      ],
      "metadata": {
        "id": "EFBj_uxqE1uF"
      }
    },
    {
      "cell_type": "code",
      "source": [
        "X = np.array(X) #配列XをNumpy配列に変換\n",
        "X = X.astype('float32') #小数型に変換\n",
        "X /=255.0\n",
        "#ラベルもNumpyの配列に変換\n",
        "Y = np.array(Y)\n",
        "Y = np_utils.to_categorical(Y, n_classes) "
      ],
      "metadata": {
        "id": "7TDlKYwkD56R"
      },
      "execution_count": 12,
      "outputs": []
    },
    {
      "cell_type": "markdown",
      "source": [
        "###整形したデータを学習用データとテスト検証用に振り分ける"
      ],
      "metadata": {
        "id": "ndWHoZnPGckY"
      }
    },
    {
      "cell_type": "code",
      "source": [
        "#学習データ8割、テスト検証用が2割に分ける\n",
        "X_train , X_test, Y_train, Y_test = train_test_split(X,Y,test_size=0.2)\n",
        "#学習データ8割（画像問題データ）\n",
        "print(X_train.shape)\n",
        "#テストデータ2割（画像問題データ）\n",
        "print(X_test.shape)\n",
        "#学習性データ8割（正解ラベル）\n",
        "print(Y_train.shape)\n",
        "#テストデータ8割（正解ラベル）\n",
        "print(Y_test.shape)"
      ],
      "metadata": {
        "colab": {
          "base_uri": "https://localhost:8080/"
        },
        "id": "pUmBe56pGFaS",
        "outputId": "a0fba7d6-70f5-4b86-c4f3-1740b1e36953"
      },
      "execution_count": 13,
      "outputs": [
        {
          "output_type": "stream",
          "name": "stdout",
          "text": [
            "(116, 224, 224, 3)\n",
            "(30, 224, 224, 3)\n",
            "(116, 2)\n",
            "(30, 2)\n"
          ]
        }
      ]
    },
    {
      "cell_type": "markdown",
      "source": [
        "##準備したデータを学習させていく"
      ],
      "metadata": {
        "id": "OexoXmiILwOt"
      }
    },
    {
      "cell_type": "markdown",
      "source": [
        "###学習に必要なライブラリをimport"
      ],
      "metadata": {
        "id": "zAcOfGbtL0GM"
      }
    },
    {
      "cell_type": "code",
      "source": [
        "from keras.applications.vgg16 import VGG16\n",
        "from keras.models import Sequential\n",
        "from keras.models import Model\n",
        "from keras.layers import Input, Activation, Dense, Flatten, Dropout\n",
        "from keras.optimizers import Adam"
      ],
      "metadata": {
        "id": "qj-cOtVqGyjt"
      },
      "execution_count": 14,
      "outputs": []
    },
    {
      "cell_type": "markdown",
      "source": [
        "###モデルのVGGもアレンジしていく"
      ],
      "metadata": {
        "id": "C0l9DrYjTGNV"
      }
    },
    {
      "cell_type": "code",
      "source": [
        "#VGG 入力層を用意する（定義する）\n",
        "input_tensor = Input(shape=(224,224,3))\n",
        "#VGGのインスタンスを作る\n",
        "base_model=VGG16(weights='imagenet',input_tensor=input_tensor,include_top=False)\n"
      ],
      "metadata": {
        "id": "eEZTE8V_Mfp8",
        "colab": {
          "base_uri": "https://localhost:8080/"
        },
        "outputId": "5d88cd15-9cd5-46e1-8776-dd57cd37eb11"
      },
      "execution_count": 15,
      "outputs": [
        {
          "output_type": "stream",
          "name": "stdout",
          "text": [
            "Downloading data from https://storage.googleapis.com/tensorflow/keras-applications/vgg16/vgg16_weights_tf_dim_ordering_tf_kernels_notop.h5\n",
            "58889256/58889256 [==============================] - 0s 0us/step\n"
          ]
        }
      ]
    },
    {
      "cell_type": "markdown",
      "source": [
        "1000分類のsoftmaxを外した代わりに、2つに分類するsoftmax層を追加する"
      ],
      "metadata": {
        "id": "eRg09fktXar0"
      }
    },
    {
      "cell_type": "code",
      "source": [
        "from keras.backend import softmax\n",
        "#追加する層の作成\n",
        "top_model=Sequential() #ラッピングする層\n",
        "top_model.add(Flatten(input_shape=base_model.output_shape[1:]))\n",
        "top_model.add(Dense(n_classes,activation='softmax'))"
      ],
      "metadata": {
        "id": "K1fMKxVCWpSR"
      },
      "execution_count": 16,
      "outputs": []
    },
    {
      "cell_type": "markdown",
      "source": [
        "###最後のSOFTMAXを外したモデル（basemodel）と追加用の2つに分類するSOFTMAX層のモデル（top_model）をつなげる"
      ],
      "metadata": {
        "id": "aBN6djflaPlo"
      }
    },
    {
      "cell_type": "code",
      "source": [
        "model = Model(inputs=base_model.input,outputs=top_model(base_model.output))"
      ],
      "metadata": {
        "id": "iYqRdYYMZPde"
      },
      "execution_count": 17,
      "outputs": []
    },
    {
      "cell_type": "markdown",
      "source": [
        "###時間短縮のために15層まで外す"
      ],
      "metadata": {
        "id": "k-lS4dRJbjX-"
      }
    },
    {
      "cell_type": "code",
      "source": [
        "\n",
        "#ループしながら15層までを無効にする\n",
        "for layer in model.layers[:15]:\n",
        "  layer.trainable =False #15層までは学習しない\n",
        "#ループ終わり\n",
        "print('# layers=', len(model.layers)) #学習モデルの層を表示 "
      ],
      "metadata": {
        "colab": {
          "base_uri": "https://localhost:8080/"
        },
        "id": "Ka0Jbn6ya4zX",
        "outputId": "856dad50-62d8-4fa6-f3e9-a0e61e6e49c9"
      },
      "execution_count": 18,
      "outputs": [
        {
          "output_type": "stream",
          "name": "stdout",
          "text": [
            "# layers= 20\n"
          ]
        }
      ]
    },
    {
      "cell_type": "markdown",
      "source": [
        "#学習モデルをコンパイルする"
      ],
      "metadata": {
        "id": "F15g7WT-cr1R"
      }
    },
    {
      "cell_type": "code",
      "source": [
        "#喪失はクロスエントロピー法で算出、\n",
        "model.compile(loss='categorical_crossentropy',\n",
        "              optimizer='adam',metrics=['accuracy'])"
      ],
      "metadata": {
        "id": "bgtUF6vwcqHW"
      },
      "execution_count": 19,
      "outputs": []
    },
    {
      "cell_type": "markdown",
      "source": [
        "###コンパイルしたmodelを表示"
      ],
      "metadata": {
        "id": "H2rYPQmren78"
      }
    },
    {
      "cell_type": "code",
      "source": [
        "model.summary()"
      ],
      "metadata": {
        "colab": {
          "base_uri": "https://localhost:8080/"
        },
        "id": "2xJZPoaNcW1J",
        "outputId": "55d9b4bf-fab8-4a2e-f6ec-17629d93e8c2"
      },
      "execution_count": 20,
      "outputs": [
        {
          "output_type": "stream",
          "name": "stdout",
          "text": [
            "Model: \"model\"\n",
            "_________________________________________________________________\n",
            " Layer (type)                Output Shape              Param #   \n",
            "=================================================================\n",
            " input_1 (InputLayer)        [(None, 224, 224, 3)]     0         \n",
            "                                                                 \n",
            " block1_conv1 (Conv2D)       (None, 224, 224, 64)      1792      \n",
            "                                                                 \n",
            " block1_conv2 (Conv2D)       (None, 224, 224, 64)      36928     \n",
            "                                                                 \n",
            " block1_pool (MaxPooling2D)  (None, 112, 112, 64)      0         \n",
            "                                                                 \n",
            " block2_conv1 (Conv2D)       (None, 112, 112, 128)     73856     \n",
            "                                                                 \n",
            " block2_conv2 (Conv2D)       (None, 112, 112, 128)     147584    \n",
            "                                                                 \n",
            " block2_pool (MaxPooling2D)  (None, 56, 56, 128)       0         \n",
            "                                                                 \n",
            " block3_conv1 (Conv2D)       (None, 56, 56, 256)       295168    \n",
            "                                                                 \n",
            " block3_conv2 (Conv2D)       (None, 56, 56, 256)       590080    \n",
            "                                                                 \n",
            " block3_conv3 (Conv2D)       (None, 56, 56, 256)       590080    \n",
            "                                                                 \n",
            " block3_pool (MaxPooling2D)  (None, 28, 28, 256)       0         \n",
            "                                                                 \n",
            " block4_conv1 (Conv2D)       (None, 28, 28, 512)       1180160   \n",
            "                                                                 \n",
            " block4_conv2 (Conv2D)       (None, 28, 28, 512)       2359808   \n",
            "                                                                 \n",
            " block4_conv3 (Conv2D)       (None, 28, 28, 512)       2359808   \n",
            "                                                                 \n",
            " block4_pool (MaxPooling2D)  (None, 14, 14, 512)       0         \n",
            "                                                                 \n",
            " block5_conv1 (Conv2D)       (None, 14, 14, 512)       2359808   \n",
            "                                                                 \n",
            " block5_conv2 (Conv2D)       (None, 14, 14, 512)       2359808   \n",
            "                                                                 \n",
            " block5_conv3 (Conv2D)       (None, 14, 14, 512)       2359808   \n",
            "                                                                 \n",
            " block5_pool (MaxPooling2D)  (None, 7, 7, 512)         0         \n",
            "                                                                 \n",
            " sequential (Sequential)     (None, 2)                 50178     \n",
            "                                                                 \n",
            "=================================================================\n",
            "Total params: 14,764,866\n",
            "Trainable params: 7,129,602\n",
            "Non-trainable params: 7,635,264\n",
            "_________________________________________________________________\n"
          ]
        }
      ]
    },
    {
      "cell_type": "markdown",
      "source": [
        "##コンパイルしたモデルで収集した画像データを学習させる"
      ],
      "metadata": {
        "id": "kYhj2ko6fZrj"
      }
    },
    {
      "cell_type": "code",
      "source": [
        "model.fit(X_train,Y_train,epochs=20,batch_size=16)"
      ],
      "metadata": {
        "colab": {
          "base_uri": "https://localhost:8080/"
        },
        "id": "k2g19cmweqYo",
        "outputId": "3a065b20-bb0b-44bc-c017-8d3767b0c489"
      },
      "execution_count": 21,
      "outputs": [
        {
          "output_type": "stream",
          "name": "stdout",
          "text": [
            "Epoch 1/20\n",
            "8/8 [==============================] - 12s 214ms/step - loss: 1.9676 - accuracy: 0.4828\n",
            "Epoch 2/20\n",
            "8/8 [==============================] - 1s 84ms/step - loss: 0.7798 - accuracy: 0.5000\n",
            "Epoch 3/20\n",
            "8/8 [==============================] - 1s 84ms/step - loss: 0.6872 - accuracy: 0.5345\n",
            "Epoch 4/20\n",
            "8/8 [==============================] - 1s 85ms/step - loss: 0.7109 - accuracy: 0.5172\n",
            "Epoch 5/20\n",
            "8/8 [==============================] - 1s 84ms/step - loss: 0.6925 - accuracy: 0.5172\n",
            "Epoch 6/20\n",
            "8/8 [==============================] - 1s 86ms/step - loss: 0.6930 - accuracy: 0.5172\n",
            "Epoch 7/20\n",
            "8/8 [==============================] - 1s 83ms/step - loss: 0.6930 - accuracy: 0.5172\n",
            "Epoch 8/20\n",
            "8/8 [==============================] - 1s 84ms/step - loss: 0.6932 - accuracy: 0.5172\n",
            "Epoch 9/20\n",
            "8/8 [==============================] - 1s 84ms/step - loss: 0.6929 - accuracy: 0.5172\n",
            "Epoch 10/20\n",
            "8/8 [==============================] - 1s 85ms/step - loss: 0.6929 - accuracy: 0.5172\n",
            "Epoch 11/20\n",
            "8/8 [==============================] - 1s 85ms/step - loss: 0.6929 - accuracy: 0.5172\n",
            "Epoch 12/20\n",
            "8/8 [==============================] - 1s 85ms/step - loss: 0.6929 - accuracy: 0.5172\n",
            "Epoch 13/20\n",
            "8/8 [==============================] - 1s 86ms/step - loss: 0.6929 - accuracy: 0.5172\n",
            "Epoch 14/20\n",
            "8/8 [==============================] - 1s 85ms/step - loss: 0.6929 - accuracy: 0.5172\n",
            "Epoch 15/20\n",
            "8/8 [==============================] - 1s 84ms/step - loss: 0.6929 - accuracy: 0.5172\n",
            "Epoch 16/20\n",
            "8/8 [==============================] - 1s 85ms/step - loss: 0.6931 - accuracy: 0.5172\n",
            "Epoch 17/20\n",
            "8/8 [==============================] - 1s 85ms/step - loss: 0.6928 - accuracy: 0.5172\n",
            "Epoch 18/20\n",
            "8/8 [==============================] - 1s 85ms/step - loss: 0.6928 - accuracy: 0.5172\n",
            "Epoch 19/20\n",
            "8/8 [==============================] - 1s 85ms/step - loss: 0.6928 - accuracy: 0.5172\n",
            "Epoch 20/20\n",
            "8/8 [==============================] - 1s 84ms/step - loss: 0.6928 - accuracy: 0.5172\n"
          ]
        },
        {
          "output_type": "execute_result",
          "data": {
            "text/plain": [
              "<keras.callbacks.History at 0x7f2fdc3f07f0>"
            ]
          },
          "metadata": {},
          "execution_count": 21
        }
      ]
    },
    {
      "cell_type": "markdown",
      "source": [
        "##学習の成果を指標(accuracy)で確認"
      ],
      "metadata": {
        "id": "ZfMr85zAht7s"
      }
    },
    {
      "cell_type": "code",
      "source": [
        "model.evaluate(X_test,Y_test,batch_size=16)"
      ],
      "metadata": {
        "colab": {
          "base_uri": "https://localhost:8080/"
        },
        "id": "iHd3XsDRf6yL",
        "outputId": "52626bbc-33ce-478e-a68d-f00f9519a15d"
      },
      "execution_count": 22,
      "outputs": [
        {
          "output_type": "stream",
          "name": "stdout",
          "text": [
            "2/2 [==============================] - 2s 2s/step - loss: 0.6964 - accuracy: 0.3667\n"
          ]
        },
        {
          "output_type": "execute_result",
          "data": {
            "text/plain": [
              "[0.6964479088783264, 0.36666667461395264]"
            ]
          },
          "metadata": {},
          "execution_count": 22
        }
      ]
    },
    {
      "cell_type": "markdown",
      "source": [
        "##作成した学習モデルとクラス分分類名を保存"
      ],
      "metadata": {
        "id": "7KetIfFWi4_-"
      }
    },
    {
      "cell_type": "code",
      "source": [
        "import pickle\n",
        "# vクラス分類の保存\n",
        "pickle.dump(classes,open('classes.sav','wb'))#オブジェクトをバイナリファイルで保存\n",
        "# 学習モデルの保存\n",
        "model.save('cnn.h5')"
      ],
      "metadata": {
        "id": "lc3_YltGh61X"
      },
      "execution_count": 23,
      "outputs": []
    },
    {
      "cell_type": "markdown",
      "source": [
        "##保存したクラス分類と学習モデルを読み込んで使う"
      ],
      "metadata": {
        "id": "rsVVdST8kTP4"
      }
    },
    {
      "cell_type": "code",
      "source": [
        "#ライブラリをimport\n",
        "from keras.models import load_model\n",
        "import pickle\n",
        "import cv2 \n",
        "import glob"
      ],
      "metadata": {
        "id": "xnQZhuBgjbgx"
      },
      "execution_count": 24,
      "outputs": []
    },
    {
      "cell_type": "markdown",
      "source": [
        "##ファイルを読み込んでオブジェクトとしてよみがえらせる"
      ],
      "metadata": {
        "id": "sL6rgIfhk8cY"
      }
    },
    {
      "cell_type": "code",
      "source": [
        "model = load_model('cnn.h5')\n",
        "pickle.load(open('classes.sav','rb'))"
      ],
      "metadata": {
        "colab": {
          "base_uri": "https://localhost:8080/"
        },
        "id": "YIuvq335kuop",
        "outputId": "8e1f172d-0b73-4697-8377-28f7aed1cf34"
      },
      "execution_count": 25,
      "outputs": [
        {
          "output_type": "execute_result",
          "data": {
            "text/plain": [
              "['dog', 'cat']"
            ]
          },
          "metadata": {},
          "execution_count": 25
        }
      ]
    },
    {
      "cell_type": "markdown",
      "source": [
        "###Sanple画像を読み込む"
      ],
      "metadata": {
        "id": "TZm3J2KFUVjL"
      }
    },
    {
      "cell_type": "code",
      "source": [
        "files=glob.glob('sample/*')\n",
        "print(files)"
      ],
      "metadata": {
        "id": "4bIkNdHBlR06",
        "colab": {
          "base_uri": "https://localhost:8080/"
        },
        "outputId": "5143be88-5c99-46c2-eff5-090854781e49"
      },
      "execution_count": 27,
      "outputs": [
        {
          "output_type": "stream",
          "name": "stdout",
          "text": [
            "['sample/cat_24.jpg', 'sample/dog_6.jpg', 'sample/cat_23.png']\n"
          ]
        }
      ]
    },
    {
      "cell_type": "markdown",
      "source": [
        "#ファイルパスから画像を読み込み、学習モデルに判定させ、該当するoutputフォルダにコピーを書き込む"
      ],
      "metadata": {
        "id": "xfJQdgN4V9zr"
      }
    },
    {
      "cell_type": "code",
      "source": [
        "for file in files: #ファイルの数だけループ\n",
        "  img =cv2.imread(file) #画像データを読み込み\n",
        "  #判定のためにimgを加工したimg2を作る\n",
        "  img2 = cv2.resize(img, dsize=(224,224)) #(224,224にリサイズ)\n",
        "  img2 = img2.astype('float32')\n",
        "  img2 = img2/255.0 #0.0～255.0だったデータを0.0～1.0に変更\n",
        "  img2 = img2[None,...] #1次元配列に変更\n",
        "  #正規化したデータを判定\n",
        "  result = model.predict(img2)\n",
        "  print(result)\n",
        "  pred =result.argmax()\n",
        "  print(pred,str(classes[pred]))\n",
        "  cv2.imwrite('output/'+ str(classes[pred])+'/'+file,img)"
      ],
      "metadata": {
        "colab": {
          "base_uri": "https://localhost:8080/"
        },
        "id": "uihflhsaQ_g_",
        "outputId": "3ca9af12-df08-4aad-f425-a1110b3d5c2d"
      },
      "execution_count": 32,
      "outputs": [
        {
          "output_type": "stream",
          "name": "stdout",
          "text": [
            "1/1 [==============================] - 0s 16ms/step\n",
            "[[0.5060513  0.49394873]]\n",
            "0 dog\n",
            "1/1 [==============================] - 0s 17ms/step\n",
            "[[0.5060513  0.49394873]]\n",
            "0 dog\n",
            "1/1 [==============================] - 0s 20ms/step\n",
            "[[0.5060513  0.49394873]]\n",
            "0 dog\n"
          ]
        }
      ]
    },
    {
      "cell_type": "code",
      "source": [],
      "metadata": {
        "id": "5WRcd1WYZqn2"
      },
      "execution_count": null,
      "outputs": []
    }
  ]
}